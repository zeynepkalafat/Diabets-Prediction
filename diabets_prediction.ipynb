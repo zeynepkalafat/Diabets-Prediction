{
 "cells": [
  {
   "cell_type": "code",
   "execution_count": 1,
   "id": "2cdd33b9",
   "metadata": {},
   "outputs": [],
   "source": [
    "import numpy as np\n",
    "import pandas as pd\n",
    "import seaborn as sns\n",
    "from matplotlib import pyplot as plt\n",
    "import missingno as msno\n",
    "from sklearn.metrics import accuracy_score\n",
    "from sklearn.ensemble import RandomForestClassifier\n",
    "from sklearn.model_selection import train_test_split\n",
    "from sklearn.preprocessing import MinMaxScaler, LabelEncoder, StandardScaler, RobustScaler"
   ]
  },
  {
   "cell_type": "code",
   "execution_count": 2,
   "id": "a29fc11c",
   "metadata": {},
   "outputs": [],
   "source": [
    "pd.set_option('display.max_columns', None)\n",
    "pd.set_option('display.max_rows', None)\n",
    "pd.set_option('display.float_format', lambda x: '%.5f' % x)\n",
    "pd.set_option('display.width', None)"
   ]
  },
  {
   "cell_type": "code",
   "execution_count": 3,
   "id": "66dd4da9",
   "metadata": {},
   "outputs": [],
   "source": [
    "def load():\n",
    "    data = pd.read_csv(\"datasets\\diabetes.csv\")\n",
    "    return data"
   ]
  },
  {
   "cell_type": "code",
   "execution_count": 4,
   "id": "58f30de4",
   "metadata": {},
   "outputs": [],
   "source": [
    "df = load()"
   ]
  },
  {
   "cell_type": "code",
   "execution_count": 5,
   "id": "d33c2b92",
   "metadata": {},
   "outputs": [
    {
     "data": {
      "text/html": [
       "<div>\n",
       "<style scoped>\n",
       "    .dataframe tbody tr th:only-of-type {\n",
       "        vertical-align: middle;\n",
       "    }\n",
       "\n",
       "    .dataframe tbody tr th {\n",
       "        vertical-align: top;\n",
       "    }\n",
       "\n",
       "    .dataframe thead th {\n",
       "        text-align: right;\n",
       "    }\n",
       "</style>\n",
       "<table border=\"1\" class=\"dataframe\">\n",
       "  <thead>\n",
       "    <tr style=\"text-align: right;\">\n",
       "      <th></th>\n",
       "      <th>Pregnancies</th>\n",
       "      <th>Glucose</th>\n",
       "      <th>BloodPressure</th>\n",
       "      <th>SkinThickness</th>\n",
       "      <th>Insulin</th>\n",
       "      <th>BMI</th>\n",
       "      <th>DiabetesPedigreeFunction</th>\n",
       "      <th>Age</th>\n",
       "      <th>Outcome</th>\n",
       "    </tr>\n",
       "  </thead>\n",
       "  <tbody>\n",
       "    <tr>\n",
       "      <th>0</th>\n",
       "      <td>6</td>\n",
       "      <td>148</td>\n",
       "      <td>72</td>\n",
       "      <td>35</td>\n",
       "      <td>0</td>\n",
       "      <td>33.60000</td>\n",
       "      <td>0.62700</td>\n",
       "      <td>50</td>\n",
       "      <td>1</td>\n",
       "    </tr>\n",
       "    <tr>\n",
       "      <th>1</th>\n",
       "      <td>1</td>\n",
       "      <td>85</td>\n",
       "      <td>66</td>\n",
       "      <td>29</td>\n",
       "      <td>0</td>\n",
       "      <td>26.60000</td>\n",
       "      <td>0.35100</td>\n",
       "      <td>31</td>\n",
       "      <td>0</td>\n",
       "    </tr>\n",
       "    <tr>\n",
       "      <th>2</th>\n",
       "      <td>8</td>\n",
       "      <td>183</td>\n",
       "      <td>64</td>\n",
       "      <td>0</td>\n",
       "      <td>0</td>\n",
       "      <td>23.30000</td>\n",
       "      <td>0.67200</td>\n",
       "      <td>32</td>\n",
       "      <td>1</td>\n",
       "    </tr>\n",
       "    <tr>\n",
       "      <th>3</th>\n",
       "      <td>1</td>\n",
       "      <td>89</td>\n",
       "      <td>66</td>\n",
       "      <td>23</td>\n",
       "      <td>94</td>\n",
       "      <td>28.10000</td>\n",
       "      <td>0.16700</td>\n",
       "      <td>21</td>\n",
       "      <td>0</td>\n",
       "    </tr>\n",
       "    <tr>\n",
       "      <th>4</th>\n",
       "      <td>0</td>\n",
       "      <td>137</td>\n",
       "      <td>40</td>\n",
       "      <td>35</td>\n",
       "      <td>168</td>\n",
       "      <td>43.10000</td>\n",
       "      <td>2.28800</td>\n",
       "      <td>33</td>\n",
       "      <td>1</td>\n",
       "    </tr>\n",
       "  </tbody>\n",
       "</table>\n",
       "</div>"
      ],
      "text/plain": [
       "   Pregnancies  Glucose  BloodPressure  SkinThickness  Insulin      BMI  \\\n",
       "0            6      148             72             35        0 33.60000   \n",
       "1            1       85             66             29        0 26.60000   \n",
       "2            8      183             64              0        0 23.30000   \n",
       "3            1       89             66             23       94 28.10000   \n",
       "4            0      137             40             35      168 43.10000   \n",
       "\n",
       "   DiabetesPedigreeFunction  Age  Outcome  \n",
       "0                   0.62700   50        1  \n",
       "1                   0.35100   31        0  \n",
       "2                   0.67200   32        1  \n",
       "3                   0.16700   21        0  \n",
       "4                   2.28800   33        1  "
      ]
     },
     "execution_count": 5,
     "metadata": {},
     "output_type": "execute_result"
    }
   ],
   "source": [
    "df.head()"
   ]
  },
  {
   "cell_type": "markdown",
   "id": "18580e07",
   "metadata": {},
   "source": [
    "### Veri Setini Tanıyalım"
   ]
  },
  {
   "cell_type": "markdown",
   "id": "0360a5a8",
   "metadata": {},
   "source": [
    "* Pregnancies ( Hamilelik Sayısı )\n",
    "* Glucose ( 2 saatlik Plazma Glikoz Konsantrasyonu )\n",
    "* Blood Pressure ( Kan Basıncı Küçük Tansiyon )\n",
    "* SkinThickness ( Cilt Kalınlığı )\n",
    "* Insulin ( 2 saatlik Serum İnsülini )\n",
    "* DiabetesPedigreeFunction ( Diyabet Soyağacı Fonksiyonu )\n",
    "* BMI ( Vücut Kitle Endeksi )\n",
    "* Age ( Yaş )\n",
    "* Outcome ( Hastalığa sahip (1) ya da değil (0) )\n",
    "\n",
    "##### Bağımlı değişken : Outcome\n",
    "#### Ana hedef : Değerleri verilen kişinin şeker hastası olup olmadığını tahmin eden model geliştirmek."
   ]
  },
  {
   "cell_type": "markdown",
   "id": "71c0b860",
   "metadata": {},
   "source": [
    "\n",
    "\n",
    "# Keşifçi Veri Analizi (Exploratory Data Analysis) \n"
   ]
  },
  {
   "cell_type": "markdown",
   "id": "b9a41ab6",
   "metadata": {},
   "source": [
    " 1. Genel Resim\n",
    " 2. Kategorik Değişken Analizi \n",
    " 3. Sayısal Değişken Analizi\n",
    " 4. Hedef Değişken Analizi  \n",
    " (Kategorik değişkenlere göre hedef değişkenin ortalaması, hedef değişkene göre nümerik değişkenlerin ortalaması)\n",
    " 5. Aykırı Gözlem Analizi\n",
    " 6. Eksik Gözlem Analiz\n",
    " 7. Korelasyon Analizi "
   ]
  },
  {
   "cell_type": "markdown",
   "id": "df8711ca",
   "metadata": {},
   "source": [
    "\n",
    "### 1. Genel Resim\n"
   ]
  },
  {
   "cell_type": "code",
   "execution_count": 6,
   "id": "f99739af",
   "metadata": {},
   "outputs": [],
   "source": [
    "def check_df(dataframe):\n",
    "    print(\"##################### Shape #####################\")\n",
    "    print(dataframe.shape)\n",
    "    print(\"##################### Types #####################\")\n",
    "    print(dataframe.dtypes)\n",
    "    print(\"##################### Head #####################\")\n",
    "    print(dataframe.head(3))\n",
    "    print(\"##################### Tail #####################\")\n",
    "    print(dataframe.tail(3))\n",
    "    print(\"##################### NA #####################\")\n",
    "    print(dataframe.isnull().sum())\n",
    "    print(\"##################### Describe #####################\")\n",
    "    print(dataframe.describe([0.05, 0.50, 0.95, 0.99]).T)"
   ]
  },
  {
   "cell_type": "code",
   "execution_count": 7,
   "id": "d9378d1b",
   "metadata": {
    "scrolled": true
   },
   "outputs": [
    {
     "name": "stdout",
     "output_type": "stream",
     "text": [
      "##################### Shape #####################\n",
      "(768, 9)\n",
      "##################### Types #####################\n",
      "Pregnancies                   int64\n",
      "Glucose                       int64\n",
      "BloodPressure                 int64\n",
      "SkinThickness                 int64\n",
      "Insulin                       int64\n",
      "BMI                         float64\n",
      "DiabetesPedigreeFunction    float64\n",
      "Age                           int64\n",
      "Outcome                       int64\n",
      "dtype: object\n",
      "##################### Head #####################\n",
      "   Pregnancies  Glucose  BloodPressure  SkinThickness  Insulin      BMI  \\\n",
      "0            6      148             72             35        0 33.60000   \n",
      "1            1       85             66             29        0 26.60000   \n",
      "2            8      183             64              0        0 23.30000   \n",
      "\n",
      "   DiabetesPedigreeFunction  Age  Outcome  \n",
      "0                   0.62700   50        1  \n",
      "1                   0.35100   31        0  \n",
      "2                   0.67200   32        1  \n",
      "##################### Tail #####################\n",
      "     Pregnancies  Glucose  BloodPressure  SkinThickness  Insulin      BMI  \\\n",
      "765            5      121             72             23      112 26.20000   \n",
      "766            1      126             60              0        0 30.10000   \n",
      "767            1       93             70             31        0 30.40000   \n",
      "\n",
      "     DiabetesPedigreeFunction  Age  Outcome  \n",
      "765                   0.24500   30        0  \n",
      "766                   0.34900   47        1  \n",
      "767                   0.31500   23        0  \n",
      "##################### NA #####################\n",
      "Pregnancies                 0\n",
      "Glucose                     0\n",
      "BloodPressure               0\n",
      "SkinThickness               0\n",
      "Insulin                     0\n",
      "BMI                         0\n",
      "DiabetesPedigreeFunction    0\n",
      "Age                         0\n",
      "Outcome                     0\n",
      "dtype: int64\n",
      "##################### Describe #####################\n",
      "                             count      mean       std      min       5%  \\\n",
      "Pregnancies              768.00000   3.84505   3.36958  0.00000  0.00000   \n",
      "Glucose                  768.00000 120.89453  31.97262  0.00000 79.00000   \n",
      "BloodPressure            768.00000  69.10547  19.35581  0.00000 38.70000   \n",
      "SkinThickness            768.00000  20.53646  15.95222  0.00000  0.00000   \n",
      "Insulin                  768.00000  79.79948 115.24400  0.00000  0.00000   \n",
      "BMI                      768.00000  31.99258   7.88416  0.00000 21.80000   \n",
      "DiabetesPedigreeFunction 768.00000   0.47188   0.33133  0.07800  0.14035   \n",
      "Age                      768.00000  33.24089  11.76023 21.00000 21.00000   \n",
      "Outcome                  768.00000   0.34896   0.47695  0.00000  0.00000   \n",
      "\n",
      "                               50%       95%       99%       max  \n",
      "Pregnancies                3.00000  10.00000  13.00000  17.00000  \n",
      "Glucose                  117.00000 181.00000 196.00000 199.00000  \n",
      "BloodPressure             72.00000  90.00000 106.00000 122.00000  \n",
      "SkinThickness             23.00000  44.00000  51.33000  99.00000  \n",
      "Insulin                   30.50000 293.00000 519.90000 846.00000  \n",
      "BMI                       32.00000  44.39500  50.75900  67.10000  \n",
      "DiabetesPedigreeFunction   0.37250   1.13285   1.69833   2.42000  \n",
      "Age                       29.00000  58.00000  67.00000  81.00000  \n",
      "Outcome                    0.00000   1.00000   1.00000   1.00000  \n"
     ]
    }
   ],
   "source": [
    "check_df(df)"
   ]
  },
  {
   "cell_type": "code",
   "execution_count": 8,
   "id": "ea6e2f43",
   "metadata": {},
   "outputs": [],
   "source": [
    "# NUMERİK VE KATEGORİK DEĞİŞKENLERİN YAKALANMASI"
   ]
  },
  {
   "cell_type": "code",
   "execution_count": 9,
   "id": "cf009055",
   "metadata": {},
   "outputs": [],
   "source": [
    "def grab_col_names(dataframe, cat_th=10, car_th=20):\n",
    "    \n",
    "\n",
    "    cat_cols = [col for col in dataframe.columns if dataframe[col].dtypes == \"O\"]\n",
    "\n",
    "    num_but_cat = [col for col in dataframe.columns if dataframe[col].nunique() < cat_th and\n",
    "                   dataframe[col].dtypes != \"O\"]\n",
    "\n",
    "    cat_but_car = [col for col in dataframe.columns if dataframe[col].nunique() > car_th and\n",
    "                   dataframe[col].dtypes == \"O\"]\n",
    "\n",
    "    cat_cols = cat_cols + num_but_cat\n",
    "    cat_cols = [col for col in cat_cols if col not in cat_but_car]\n",
    "\n",
    "    num_cols = [col for col in dataframe.columns if dataframe[col].dtypes != \"O\"]\n",
    "    num_cols = [col for col in num_cols if col not in num_but_cat]\n",
    "\n",
    "    print(f\"Observations: {dataframe.shape[0]}\")\n",
    "    print(f\"Variables: {dataframe.shape[1]}\")\n",
    "    print(f'cat_cols: {len(cat_cols)}')\n",
    "    print(f'num_cols: {len(num_cols)}')\n",
    "    print(f'cat_but_car: {len(cat_but_car)}')\n",
    "    print(f'num_but_cat: {len(num_but_cat)}')\n",
    "\n",
    "    # cat_cols + num_cols + cat_but_car = değişken sayısı.\n",
    "    # num_but_cat cat_cols'un içerisinde zaten.\n",
    "    # dolayısıyla tüm şu 3 liste ile tüm değişkenler seçilmiş olacaktır: cat_cols + num_cols + cat_but_car\n",
    "    # num_but_cat sadece raporlama için verilmiştir.\n",
    "\n",
    "    return cat_cols, cat_but_car, num_cols, num_but_cat"
   ]
  },
  {
   "cell_type": "code",
   "execution_count": 10,
   "id": "81fa93b4",
   "metadata": {},
   "outputs": [
    {
     "name": "stdout",
     "output_type": "stream",
     "text": [
      "Observations: 768\n",
      "Variables: 9\n",
      "cat_cols: 1\n",
      "num_cols: 8\n",
      "cat_but_car: 0\n",
      "num_but_cat: 1\n"
     ]
    }
   ],
   "source": [
    "cat_cols, cat_but_car, num_cols, num_but_cat = grab_col_names(df)"
   ]
  },
  {
   "cell_type": "code",
   "execution_count": 11,
   "id": "a05ef089",
   "metadata": {},
   "outputs": [
    {
     "data": {
      "text/plain": [
       "['Outcome']"
      ]
     },
     "execution_count": 11,
     "metadata": {},
     "output_type": "execute_result"
    }
   ],
   "source": [
    "cat_cols"
   ]
  },
  {
   "cell_type": "markdown",
   "id": "1a4d765b",
   "metadata": {},
   "source": [
    "\n",
    "### 2. Kategorik Değişken Analizi \n"
   ]
  },
  {
   "cell_type": "code",
   "execution_count": 12,
   "id": "bb007efe",
   "metadata": {},
   "outputs": [],
   "source": [
    "#kategorik\n",
    "def cat_summary(dataframe, col_name, plot=False):\n",
    "    print(pd.DataFrame({col_name: dataframe[col_name].value_counts(),\n",
    "                        \"Ratio\": 100 * dataframe[col_name].value_counts() / len(dataframe)}))\n",
    "\n",
    "    if plot:\n",
    "        sns.countplot(x=dataframe[col_name], data=dataframe)\n",
    "        plt.show()"
   ]
  },
  {
   "cell_type": "code",
   "execution_count": 13,
   "id": "2be961a9",
   "metadata": {},
   "outputs": [
    {
     "name": "stdout",
     "output_type": "stream",
     "text": [
      "   Outcome    Ratio\n",
      "0      500 65.10417\n",
      "1      268 34.89583\n"
     ]
    }
   ],
   "source": [
    "for col in cat_cols:\n",
    "    cat_summary(df, col)"
   ]
  },
  {
   "cell_type": "markdown",
   "id": "043ee98b",
   "metadata": {},
   "source": [
    "\n",
    "### 3. Sayısal Değişken Analizi \n"
   ]
  },
  {
   "cell_type": "code",
   "execution_count": 14,
   "id": "81098669",
   "metadata": {},
   "outputs": [],
   "source": [
    "#nümerik\n",
    "def num_summary(dataframe, numerical_col, plot=False):\n",
    "    quantiles = [0.05, 0.10, 0.20, 0.30, 0.40, 0.50, 0.60, 0.70, 0.80, 0.90, 0.95, 0.99]\n",
    "    print(dataframe[numerical_col].describe(quantiles).T)\n",
    "\n",
    "    if plot:\n",
    "        dataframe[numerical_col].hist(bins=50)\n",
    "        plt.xlabel(numerical_col)\n",
    "        plt.title(numerical_col)\n",
    "        plt.show()\n",
    "\n",
    "    print(\"#####################################\")"
   ]
  },
  {
   "cell_type": "code",
   "execution_count": 15,
   "id": "3226c32e",
   "metadata": {},
   "outputs": [
    {
     "name": "stdout",
     "output_type": "stream",
     "text": [
      "count   768.00000\n",
      "mean      3.84505\n",
      "std       3.36958\n",
      "min       0.00000\n",
      "5%        0.00000\n",
      "10%       0.00000\n",
      "20%       1.00000\n",
      "30%       1.00000\n",
      "40%       2.00000\n",
      "50%       3.00000\n",
      "60%       4.00000\n",
      "70%       5.00000\n",
      "80%       7.00000\n",
      "90%       9.00000\n",
      "95%      10.00000\n",
      "99%      13.00000\n",
      "max      17.00000\n",
      "Name: Pregnancies, dtype: float64\n"
     ]
    },
    {
     "data": {
      "image/png": "[encoded data removed]",
      "text/plain": [
       "<Figure size 432x288 with 1 Axes>"
      ]
     },
     "metadata": {
      "needs_background": "light"
     },
     "output_type": "display_data"
    },
    {
     "name": "stdout",
     "output_type": "stream",
     "text": [
      "#####################################\n",
      "count   768.00000\n",
      "mean    120.89453\n",
      "std      31.97262\n",
      "min       0.00000\n",
      "5%       79.00000\n",
      "10%      85.00000\n",
      "20%      95.00000\n",
      "30%     102.00000\n",
      "40%     109.00000\n",
      "50%     117.00000\n",
      "60%     125.00000\n",
      "70%     134.00000\n",
      "80%     147.00000\n",
      "90%     167.00000\n",
      "95%     181.00000\n",
      "99%     196.00000\n",
      "max     199.00000\n",
      "Name: Glucose, dtype: float64\n"
     ]
    },
    {
     "data": {
      "image/png": "[encoded data removed]",
      "text/plain": [
       "<Figure size 432x288 with 1 Axes>"
      ]
     },
     "metadata": {
      "needs_background": "light"
     },
     "output_type": "display_data"
    },
    {
     "name": "stdout",
     "output_type": "stream",
     "text": [
      "#####################################\n",
      "count   768.00000\n",
      "mean     69.10547\n",
      "std      19.35581\n",
      "min       0.00000\n",
      "5%       38.70000\n",
      "10%      54.00000\n",
      "20%      60.00000\n",
      "30%      64.00000\n",
      "40%      68.00000\n",
      "50%      72.00000\n",
      "60%      74.00000\n",
      "70%      78.00000\n",
      "80%      82.00000\n",
      "90%      88.00000\n",
      "95%      90.00000\n",
      "99%     106.00000\n",
      "max     122.00000\n",
      "Name: BloodPressure, dtype: float64\n"
     ]
    },
    {
     "data": {
      "image/png": "[encoded data removed]",
      "text/plain": [
       "<Figure size 432x288 with 1 Axes>"
      ]
     },
     "metadata": {
      "needs_background": "light"
     },
     "output_type": "display_data"
    },
    {
     "name": "stdout",
     "output_type": "stream",
     "text": [
      "#####################################\n",
      "count   768.00000\n",
      "mean     20.53646\n",
      "std      15.95222\n",
      "min       0.00000\n",
      "5%        0.00000\n",
      "10%       0.00000\n",
      "20%       0.00000\n",
      "30%       8.20000\n",
      "40%      18.00000\n",
      "50%      23.00000\n",
      "60%      27.00000\n",
      "70%      31.00000\n",
      "80%      35.00000\n",
      "90%      40.00000\n",
      "95%      44.00000\n",
      "99%      51.33000\n",
      "max      99.00000\n",
      "Name: SkinThickness, dtype: float64\n"
     ]
    },
    {
     "data": {
      "image/png": "[encoded data removed]",
      "text/plain": [
       "<Figure size 432x288 with 1 Axes>"
      ]
     },
     "metadata": {
      "needs_background": "light"
     },
     "output_type": "display_data"
    },
    {
     "name": "stdout",
     "output_type": "stream",
     "text": [
      "#####################################\n",
      "count   768.00000\n",
      "mean     79.79948\n",
      "std     115.24400\n",
      "min       0.00000\n",
      "5%        0.00000\n",
      "10%       0.00000\n",
      "20%       0.00000\n",
      "30%       0.00000\n",
      "40%       0.00000\n",
      "50%      30.50000\n",
      "60%      72.20000\n",
      "70%     106.00000\n",
      "80%     150.00000\n",
      "90%     210.00000\n",
      "95%     293.00000\n",
      "99%     519.90000\n",
      "max     846.00000\n",
      "Name: Insulin, dtype: float64\n"
     ]
    },
    {
     "data": {
      "image/png": "[encoded data removed]",
      "text/plain": [
       "<Figure size 432x288 with 1 Axes>"
      ]
     },
     "metadata": {
      "needs_background": "light"
     },
     "output_type": "display_data"
    },
    {
     "name": "stdout",
     "output_type": "stream",
     "text": [
      "#####################################\n",
      "count   768.00000\n",
      "mean     31.99258\n",
      "std       7.88416\n",
      "min       0.00000\n",
      "5%       21.80000\n",
      "10%      23.60000\n",
      "20%      25.90000\n",
      "30%      28.20000\n",
      "40%      30.10000\n",
      "50%      32.00000\n",
      "60%      33.70000\n",
      "70%      35.49000\n",
      "80%      37.80000\n",
      "90%      41.50000\n",
      "95%      44.39500\n",
      "99%      50.75900\n",
      "max      67.10000\n",
      "Name: BMI, dtype: float64\n"
     ]
    },
    {
     "data": {
      "image/png": "[encoded data removed]",
      "text/plain": [
       "<Figure size 432x288 with 1 Axes>"
      ]
     },
     "metadata": {
      "needs_background": "light"
     },
     "output_type": "display_data"
    },
    {
     "name": "stdout",
     "output_type": "stream",
     "text": [
      "#####################################\n",
      "count   768.00000\n",
      "mean      0.47188\n",
      "std       0.33133\n",
      "min       0.07800\n",
      "5%        0.14035\n",
      "10%       0.16500\n",
      "20%       0.21940\n",
      "30%       0.25900\n",
      "40%       0.30280\n",
      "50%       0.37250\n",
      "60%       0.45420\n",
      "70%       0.56370\n",
      "80%       0.68700\n",
      "90%       0.87860\n",
      "95%       1.13285\n",
      "99%       1.69833\n",
      "max       2.42000\n",
      "Name: DiabetesPedigreeFunction, dtype: float64\n"
     ]
    },
    {
     "data": {
      "image/png": "[encoded data removed]",
      "text/plain": [
       "<Figure size 432x288 with 1 Axes>"
      ]
     },
     "metadata": {
      "needs_background": "light"
     },
     "output_type": "display_data"
    },
    {
     "name": "stdout",
     "output_type": "stream",
     "text": [
      "#####################################\n",
      "count   768.00000\n",
      "mean     33.24089\n",
      "std      11.76023\n",
      "min      21.00000\n",
      "5%       21.00000\n",
      "10%      22.00000\n",
      "20%      23.00000\n",
      "30%      25.00000\n",
      "40%      27.00000\n",
      "50%      29.00000\n",
      "60%      33.00000\n",
      "70%      38.00000\n",
      "80%      42.60000\n",
      "90%      51.00000\n",
      "95%      58.00000\n",
      "99%      67.00000\n",
      "max      81.00000\n",
      "Name: Age, dtype: float64\n"
     ]
    },
    {
     "data": {
      "image/png": "[encoded data removed]",
      "text/plain": [
       "<Figure size 432x288 with 1 Axes>"
      ]
     },
     "metadata": {
      "needs_background": "light"
     },
     "output_type": "display_data"
    },
    {
     "name": "stdout",
     "output_type": "stream",
     "text": [
      "#####################################\n"
     ]
    }
   ],
   "source": [
    "for col in num_cols:\n",
    "    num_summary(df, col, plot=True)"
   ]
  },
  {
   "cell_type": "markdown",
   "id": "d243f4ee",
   "metadata": {},
   "source": [
    "\n",
    "### 4. Hedef Değişken Analizi \n"
   ]
  },
  {
   "cell_type": "code",
   "execution_count": 16,
   "id": "d77efc2c",
   "metadata": {},
   "outputs": [],
   "source": [
    "# hedef değişkene göre numerik değişkenlerin ortalaması"
   ]
  },
  {
   "cell_type": "code",
   "execution_count": 17,
   "id": "c400dcc7",
   "metadata": {},
   "outputs": [],
   "source": [
    "def target_summary_with_num(dataframe, target, numerical_col):\n",
    "    print(dataframe.groupby(target).agg({numerical_col: \"mean\"}), end=\"\\n\\n\\n\")"
   ]
  },
  {
   "cell_type": "code",
   "execution_count": 18,
   "id": "30726438",
   "metadata": {},
   "outputs": [
    {
     "name": "stdout",
     "output_type": "stream",
     "text": [
      "         Pregnancies\n",
      "Outcome             \n",
      "0            3.29800\n",
      "1            4.86567\n",
      "\n",
      "\n",
      "          Glucose\n",
      "Outcome          \n",
      "0       109.98000\n",
      "1       141.25746\n",
      "\n",
      "\n",
      "         BloodPressure\n",
      "Outcome               \n",
      "0             68.18400\n",
      "1             70.82463\n",
      "\n",
      "\n",
      "         SkinThickness\n",
      "Outcome               \n",
      "0             19.66400\n",
      "1             22.16418\n",
      "\n",
      "\n",
      "          Insulin\n",
      "Outcome          \n",
      "0        68.79200\n",
      "1       100.33582\n",
      "\n",
      "\n",
      "             BMI\n",
      "Outcome         \n",
      "0       30.30420\n",
      "1       35.14254\n",
      "\n",
      "\n",
      "         DiabetesPedigreeFunction\n",
      "Outcome                          \n",
      "0                         0.42973\n",
      "1                         0.55050\n",
      "\n",
      "\n",
      "             Age\n",
      "Outcome         \n",
      "0       31.19000\n",
      "1       37.06716\n",
      "\n",
      "\n"
     ]
    }
   ],
   "source": [
    "for col in num_cols:\n",
    "    target_summary_with_num(df,\"Outcome\",col)"
   ]
  },
  {
   "cell_type": "markdown",
   "id": "fd0cc655",
   "metadata": {},
   "source": [
    "\n",
    "### 5. Aykırı Gözlem Analizi\n"
   ]
  },
  {
   "cell_type": "code",
   "execution_count": 19,
   "id": "691d5b29",
   "metadata": {},
   "outputs": [],
   "source": [
    "#eşik değer hesapla\n",
    "def outlier_thresholds(dataframe, col_name, q1=0.5, q3=0.95):\n",
    "    quartile1 = dataframe[col_name].quantile(q1)\n",
    "    quartile3 = dataframe[col_name].quantile(q3)\n",
    "    interquantile_range = quartile3 - quartile1\n",
    "    up_limit = quartile3 + 1.5 * interquantile_range\n",
    "    low_limit = quartile1 - 1.5 * interquantile_range\n",
    "    return low_limit, up_limit"
   ]
  },
  {
   "cell_type": "code",
   "execution_count": 20,
   "id": "afa4101e",
   "metadata": {},
   "outputs": [],
   "source": [
    "# outlier'ları kontrol et\n",
    "def check_outlier(dataframe, col_name):\n",
    "    low_limit, up_limit = outlier_thresholds(dataframe, col_name)\n",
    "    if dataframe[(dataframe[col_name] > up_limit) | (dataframe[col_name] < low_limit)].any(axis=None):\n",
    "        return True\n",
    "    else:\n",
    "        return False"
   ]
  },
  {
   "cell_type": "code",
   "execution_count": 21,
   "id": "6e529062",
   "metadata": {},
   "outputs": [
    {
     "name": "stdout",
     "output_type": "stream",
     "text": [
      "Pregnancies False\n",
      "Glucose True\n",
      "BloodPressure True\n",
      "SkinThickness True\n",
      "Insulin True\n",
      "BMI True\n",
      "DiabetesPedigreeFunction True\n",
      "Age False\n"
     ]
    }
   ],
   "source": [
    "for col in num_cols:\n",
    "    print(col, check_outlier(df, col))"
   ]
  },
  {
   "cell_type": "code",
   "execution_count": 22,
   "id": "56eb71a6",
   "metadata": {},
   "outputs": [
    {
     "name": "stdout",
     "output_type": "stream",
     "text": [
      "Empty DataFrame\n",
      "Columns: [Pregnancies, Glucose, BloodPressure, SkinThickness, Insulin, BMI, DiabetesPedigreeFunction, Age, Outcome]\n",
      "Index: []\n",
      "Pregnancies None\n",
      "     Pregnancies  Glucose  BloodPressure  SkinThickness  Insulin      BMI  \\\n",
      "75             1        0             48             20        0 24.70000   \n",
      "182            1        0             74             20       23 27.70000   \n",
      "342            1        0             68             35        0 32.00000   \n",
      "349            5        0             80             32        0 41.00000   \n",
      "502            6        0             68             41        0 39.00000   \n",
      "\n",
      "     DiabetesPedigreeFunction  Age  Outcome  \n",
      "75                    0.14000   22        0  \n",
      "182                   0.29900   21        0  \n",
      "342                   0.38900   22        0  \n",
      "349                   0.34600   37        1  \n",
      "502                   0.72700   41        1  \n",
      "Glucose None\n",
      "    Pregnancies  Glucose  BloodPressure  SkinThickness  Insulin      BMI  \\\n",
      "4             0      137             40             35      168 43.10000   \n",
      "7            10      115              0              0        0 35.30000   \n",
      "15            7      100              0              0        0 30.00000   \n",
      "18            1      103             30             38       83 43.30000   \n",
      "49            7      105              0              0        0  0.00000   \n",
      "\n",
      "    DiabetesPedigreeFunction  Age  Outcome  \n",
      "4                    2.28800   33        1  \n",
      "7                    0.13400   29        0  \n",
      "15                   0.48400   32        1  \n",
      "18                   0.18300   33        0  \n",
      "49                   0.30500   24        0  \n",
      "BloodPressure None\n",
      "     Pregnancies  Glucose  BloodPressure  SkinThickness  Insulin      BMI  \\\n",
      "579            2      197             70             99        0 34.70000   \n",
      "\n",
      "     DiabetesPedigreeFunction  Age  Outcome  \n",
      "579                   0.57500   62        1  \n",
      "SkinThickness None\n",
      "     Pregnancies  Glucose  BloodPressure  SkinThickness  Insulin      BMI  \\\n",
      "13             1      189             60             23      846 30.10000   \n",
      "228            4      197             70             39      744 36.70000   \n",
      "\n",
      "     DiabetesPedigreeFunction  Age  Outcome  \n",
      "13                    0.39800   59        1  \n",
      "228                   2.32900   31        0  \n",
      "Insulin None\n",
      "     Pregnancies  Glucose  BloodPressure  SkinThickness  Insulin     BMI  \\\n",
      "9              8      125             96              0        0 0.00000   \n",
      "49             7      105              0              0        0 0.00000   \n",
      "60             2       84              0              0        0 0.00000   \n",
      "81             2       74              0              0        0 0.00000   \n",
      "145            0      102             75             23        0 0.00000   \n",
      "\n",
      "     DiabetesPedigreeFunction  Age  Outcome  \n",
      "9                     0.23200   54        1  \n",
      "49                    0.30500   24        0  \n",
      "60                    0.30400   21        0  \n",
      "81                    0.10200   22        0  \n",
      "145                   0.57200   21        0  \n",
      "BMI None\n",
      "     Pregnancies  Glucose  BloodPressure  SkinThickness  Insulin      BMI  \\\n",
      "4              0      137             40             35      168 43.10000   \n",
      "228            4      197             70             39      744 36.70000   \n",
      "445            0      180             78             63       14 59.40000   \n",
      "\n",
      "     DiabetesPedigreeFunction  Age  Outcome  \n",
      "4                     2.28800   33        1  \n",
      "228                   2.32900   31        0  \n",
      "445                   2.42000   25        1  \n",
      "DiabetesPedigreeFunction None\n",
      "Empty DataFrame\n",
      "Columns: [Pregnancies, Glucose, BloodPressure, SkinThickness, Insulin, BMI, DiabetesPedigreeFunction, Age, Outcome]\n",
      "Index: []\n",
      "Age None\n"
     ]
    }
   ],
   "source": [
    "# Aykırı değerlerin kendilerine erişip gözlemle\n",
    "def grab_outliers(dataframe, col_name, index=False):\n",
    "    low, up = outlier_thresholds(dataframe, col_name)\n",
    "\n",
    "    if dataframe[((dataframe[col_name] < low) | (dataframe[col_name] > up))].shape[0] > 10:\n",
    "        print(dataframe[((dataframe[col_name] < low) | (dataframe[col_name] > up))].head())\n",
    "    else:\n",
    "        print(dataframe[((dataframe[col_name] < low) | (dataframe[col_name] > up))])\n",
    "\n",
    "    if index:\n",
    "        outlier_index = dataframe[((dataframe[col_name] < low) | (dataframe[col_name] > up))].index\n",
    "        return outlier_index\n",
    "\n",
    "for col in num_cols:\n",
    "    print(col, grab_outliers(df,col))"
   ]
  },
  {
   "cell_type": "markdown",
   "id": "97addabb",
   "metadata": {},
   "source": [
    "\n",
    "### 6. Eksik Gözlem Analizi\n"
   ]
  },
  {
   "cell_type": "code",
   "execution_count": 23,
   "id": "2707ea71",
   "metadata": {},
   "outputs": [],
   "source": [
    "def missing_values_table(dataframe, na_name=False):\n",
    "    na_columns = [col for col in dataframe.columns if dataframe[col].isnull().sum() > 0]\n",
    "\n",
    "    n_miss = dataframe[na_columns].isnull().sum().sort_values(ascending=False)\n",
    "    ratio = (dataframe[na_columns].isnull().sum() / dataframe.shape[0] * 100).sort_values(ascending=False)\n",
    "    missing_df = pd.concat([n_miss, np.round(ratio, 2)], axis=1, keys=['n_miss', 'ratio'])\n",
    "    print(missing_df, end=\"\\n\")\n",
    "\n",
    "    if na_name:\n",
    "        return na_columns"
   ]
  },
  {
   "cell_type": "code",
   "execution_count": 24,
   "id": "673f2efe",
   "metadata": {},
   "outputs": [
    {
     "name": "stdout",
     "output_type": "stream",
     "text": [
      "Empty DataFrame\n",
      "Columns: [n_miss, ratio]\n",
      "Index: []\n"
     ]
    }
   ],
   "source": [
    "missing_values_table(df)"
   ]
  },
  {
   "cell_type": "markdown",
   "id": "79d301c7",
   "metadata": {},
   "source": [
    "\n",
    "### 7. Korelasyon Analizi \n"
   ]
  },
  {
   "cell_type": "code",
   "execution_count": 25,
   "id": "ccc35645",
   "metadata": {},
   "outputs": [
    {
     "data": {
      "text/html": [
       "<div>\n",
       "<style scoped>\n",
       "    .dataframe tbody tr th:only-of-type {\n",
       "        vertical-align: middle;\n",
       "    }\n",
       "\n",
       "    .dataframe tbody tr th {\n",
       "        vertical-align: top;\n",
       "    }\n",
       "\n",
       "    .dataframe thead th {\n",
       "        text-align: right;\n",
       "    }\n",
       "</style>\n",
       "<table border=\"1\" class=\"dataframe\">\n",
       "  <thead>\n",
       "    <tr style=\"text-align: right;\">\n",
       "      <th></th>\n",
       "      <th>Pregnancies</th>\n",
       "      <th>Glucose</th>\n",
       "      <th>BloodPressure</th>\n",
       "      <th>SkinThickness</th>\n",
       "      <th>Insulin</th>\n",
       "      <th>BMI</th>\n",
       "      <th>DiabetesPedigreeFunction</th>\n",
       "      <th>Age</th>\n",
       "    </tr>\n",
       "  </thead>\n",
       "  <tbody>\n",
       "    <tr>\n",
       "      <th>Pregnancies</th>\n",
       "      <td>1.00000</td>\n",
       "      <td>0.12946</td>\n",
       "      <td>0.14128</td>\n",
       "      <td>-0.08167</td>\n",
       "      <td>-0.07353</td>\n",
       "      <td>0.01768</td>\n",
       "      <td>-0.03352</td>\n",
       "      <td>0.54434</td>\n",
       "    </tr>\n",
       "    <tr>\n",
       "      <th>Glucose</th>\n",
       "      <td>0.12946</td>\n",
       "      <td>1.00000</td>\n",
       "      <td>0.15259</td>\n",
       "      <td>0.05733</td>\n",
       "      <td>0.33136</td>\n",
       "      <td>0.22107</td>\n",
       "      <td>0.13734</td>\n",
       "      <td>0.26351</td>\n",
       "    </tr>\n",
       "    <tr>\n",
       "      <th>BloodPressure</th>\n",
       "      <td>0.14128</td>\n",
       "      <td>0.15259</td>\n",
       "      <td>1.00000</td>\n",
       "      <td>0.20737</td>\n",
       "      <td>0.08893</td>\n",
       "      <td>0.28181</td>\n",
       "      <td>0.04126</td>\n",
       "      <td>0.23953</td>\n",
       "    </tr>\n",
       "    <tr>\n",
       "      <th>SkinThickness</th>\n",
       "      <td>-0.08167</td>\n",
       "      <td>0.05733</td>\n",
       "      <td>0.20737</td>\n",
       "      <td>1.00000</td>\n",
       "      <td>0.43678</td>\n",
       "      <td>0.39257</td>\n",
       "      <td>0.18393</td>\n",
       "      <td>-0.11397</td>\n",
       "    </tr>\n",
       "    <tr>\n",
       "      <th>Insulin</th>\n",
       "      <td>-0.07353</td>\n",
       "      <td>0.33136</td>\n",
       "      <td>0.08893</td>\n",
       "      <td>0.43678</td>\n",
       "      <td>1.00000</td>\n",
       "      <td>0.19786</td>\n",
       "      <td>0.18507</td>\n",
       "      <td>-0.04216</td>\n",
       "    </tr>\n",
       "    <tr>\n",
       "      <th>BMI</th>\n",
       "      <td>0.01768</td>\n",
       "      <td>0.22107</td>\n",
       "      <td>0.28181</td>\n",
       "      <td>0.39257</td>\n",
       "      <td>0.19786</td>\n",
       "      <td>1.00000</td>\n",
       "      <td>0.14065</td>\n",
       "      <td>0.03624</td>\n",
       "    </tr>\n",
       "    <tr>\n",
       "      <th>DiabetesPedigreeFunction</th>\n",
       "      <td>-0.03352</td>\n",
       "      <td>0.13734</td>\n",
       "      <td>0.04126</td>\n",
       "      <td>0.18393</td>\n",
       "      <td>0.18507</td>\n",
       "      <td>0.14065</td>\n",
       "      <td>1.00000</td>\n",
       "      <td>0.03356</td>\n",
       "    </tr>\n",
       "    <tr>\n",
       "      <th>Age</th>\n",
       "      <td>0.54434</td>\n",
       "      <td>0.26351</td>\n",
       "      <td>0.23953</td>\n",
       "      <td>-0.11397</td>\n",
       "      <td>-0.04216</td>\n",
       "      <td>0.03624</td>\n",
       "      <td>0.03356</td>\n",
       "      <td>1.00000</td>\n",
       "    </tr>\n",
       "  </tbody>\n",
       "</table>\n",
       "</div>"
      ],
      "text/plain": [
       "                          Pregnancies  Glucose  BloodPressure  SkinThickness  \\\n",
       "Pregnancies                   1.00000  0.12946        0.14128       -0.08167   \n",
       "Glucose                       0.12946  1.00000        0.15259        0.05733   \n",
       "BloodPressure                 0.14128  0.15259        1.00000        0.20737   \n",
       "SkinThickness                -0.08167  0.05733        0.20737        1.00000   \n",
       "Insulin                      -0.07353  0.33136        0.08893        0.43678   \n",
       "BMI                           0.01768  0.22107        0.28181        0.39257   \n",
       "DiabetesPedigreeFunction     -0.03352  0.13734        0.04126        0.18393   \n",
       "Age                           0.54434  0.26351        0.23953       -0.11397   \n",
       "\n",
       "                          Insulin     BMI  DiabetesPedigreeFunction      Age  \n",
       "Pregnancies              -0.07353 0.01768                  -0.03352  0.54434  \n",
       "Glucose                   0.33136 0.22107                   0.13734  0.26351  \n",
       "BloodPressure             0.08893 0.28181                   0.04126  0.23953  \n",
       "SkinThickness             0.43678 0.39257                   0.18393 -0.11397  \n",
       "Insulin                   1.00000 0.19786                   0.18507 -0.04216  \n",
       "BMI                       0.19786 1.00000                   0.14065  0.03624  \n",
       "DiabetesPedigreeFunction  0.18507 0.14065                   1.00000  0.03356  \n",
       "Age                      -0.04216 0.03624                   0.03356  1.00000  "
      ]
     },
     "execution_count": 25,
     "metadata": {},
     "output_type": "execute_result"
    }
   ],
   "source": [
    "corr = df[num_cols].corr()\n",
    "corr"
   ]
  },
  {
   "cell_type": "code",
   "execution_count": 26,
   "id": "1ccce047",
   "metadata": {},
   "outputs": [
    {
     "data": {
      "image/png": "[encoded data removed]",
      "text/plain": [
       "<Figure size 432x288 with 2 Axes>"
      ]
     },
     "metadata": {
      "needs_background": "light"
     },
     "output_type": "display_data"
    },
    {
     "data": {
      "text/html": [
       "<div>\n",
       "<style scoped>\n",
       "    .dataframe tbody tr th:only-of-type {\n",
       "        vertical-align: middle;\n",
       "    }\n",
       "\n",
       "    .dataframe tbody tr th {\n",
       "        vertical-align: top;\n",
       "    }\n",
       "\n",
       "    .dataframe thead th {\n",
       "        text-align: right;\n",
       "    }\n",
       "</style>\n",
       "<table border=\"1\" class=\"dataframe\">\n",
       "  <thead>\n",
       "    <tr style=\"text-align: right;\">\n",
       "      <th></th>\n",
       "      <th>1</th>\n",
       "      <th>2</th>\n",
       "      <th>corr</th>\n",
       "    </tr>\n",
       "  </thead>\n",
       "  <tbody>\n",
       "    <tr>\n",
       "      <th>0</th>\n",
       "      <td>SkinThickness</td>\n",
       "      <td>Age</td>\n",
       "      <td>-0.75549</td>\n",
       "    </tr>\n",
       "    <tr>\n",
       "      <th>1</th>\n",
       "      <td>SkinThickness</td>\n",
       "      <td>Pregnancies</td>\n",
       "      <td>-0.67052</td>\n",
       "    </tr>\n",
       "    <tr>\n",
       "      <th>2</th>\n",
       "      <td>Insulin</td>\n",
       "      <td>Pregnancies</td>\n",
       "      <td>-0.64202</td>\n",
       "    </tr>\n",
       "    <tr>\n",
       "      <th>3</th>\n",
       "      <td>Age</td>\n",
       "      <td>Insulin</td>\n",
       "      <td>-0.63670</td>\n",
       "    </tr>\n",
       "    <tr>\n",
       "      <th>4</th>\n",
       "      <td>Age</td>\n",
       "      <td>BMI</td>\n",
       "      <td>-0.49371</td>\n",
       "    </tr>\n",
       "    <tr>\n",
       "      <th>5</th>\n",
       "      <td>Pregnancies</td>\n",
       "      <td>BMI</td>\n",
       "      <td>-0.47731</td>\n",
       "    </tr>\n",
       "    <tr>\n",
       "      <th>6</th>\n",
       "      <td>Pregnancies</td>\n",
       "      <td>DiabetesPedigreeFunction</td>\n",
       "      <td>-0.45675</td>\n",
       "    </tr>\n",
       "    <tr>\n",
       "      <th>7</th>\n",
       "      <td>DiabetesPedigreeFunction</td>\n",
       "      <td>Age</td>\n",
       "      <td>-0.40203</td>\n",
       "    </tr>\n",
       "    <tr>\n",
       "      <th>8</th>\n",
       "      <td>Outcome</td>\n",
       "      <td>BloodPressure</td>\n",
       "      <td>-0.36521</td>\n",
       "    </tr>\n",
       "    <tr>\n",
       "      <th>9</th>\n",
       "      <td>SkinThickness</td>\n",
       "      <td>Outcome</td>\n",
       "      <td>-0.36464</td>\n",
       "    </tr>\n",
       "    <tr>\n",
       "      <th>10</th>\n",
       "      <td>BloodPressure</td>\n",
       "      <td>DiabetesPedigreeFunction</td>\n",
       "      <td>-0.34136</td>\n",
       "    </tr>\n",
       "    <tr>\n",
       "      <th>11</th>\n",
       "      <td>Glucose</td>\n",
       "      <td>SkinThickness</td>\n",
       "      <td>-0.33583</td>\n",
       "    </tr>\n",
       "    <tr>\n",
       "      <th>12</th>\n",
       "      <td>BloodPressure</td>\n",
       "      <td>Insulin</td>\n",
       "      <td>-0.24310</td>\n",
       "    </tr>\n",
       "    <tr>\n",
       "      <th>13</th>\n",
       "      <td>BloodPressure</td>\n",
       "      <td>Glucose</td>\n",
       "      <td>-0.22732</td>\n",
       "    </tr>\n",
       "    <tr>\n",
       "      <th>14</th>\n",
       "      <td>Insulin</td>\n",
       "      <td>Outcome</td>\n",
       "      <td>-0.19796</td>\n",
       "    </tr>\n",
       "    <tr>\n",
       "      <th>15</th>\n",
       "      <td>DiabetesPedigreeFunction</td>\n",
       "      <td>Glucose</td>\n",
       "      <td>-0.14329</td>\n",
       "    </tr>\n",
       "    <tr>\n",
       "      <th>16</th>\n",
       "      <td>Glucose</td>\n",
       "      <td>Pregnancies</td>\n",
       "      <td>-0.09098</td>\n",
       "    </tr>\n",
       "    <tr>\n",
       "      <th>17</th>\n",
       "      <td>Outcome</td>\n",
       "      <td>DiabetesPedigreeFunction</td>\n",
       "      <td>-0.07970</td>\n",
       "    </tr>\n",
       "    <tr>\n",
       "      <th>18</th>\n",
       "      <td>BMI</td>\n",
       "      <td>Glucose</td>\n",
       "      <td>-0.07438</td>\n",
       "    </tr>\n",
       "    <tr>\n",
       "      <th>19</th>\n",
       "      <td>BMI</td>\n",
       "      <td>DiabetesPedigreeFunction</td>\n",
       "      <td>-0.06975</td>\n",
       "    </tr>\n",
       "    <tr>\n",
       "      <th>20</th>\n",
       "      <td>BloodPressure</td>\n",
       "      <td>Pregnancies</td>\n",
       "      <td>-0.03900</td>\n",
       "    </tr>\n",
       "    <tr>\n",
       "      <th>21</th>\n",
       "      <td>SkinThickness</td>\n",
       "      <td>BloodPressure</td>\n",
       "      <td>0.01870</td>\n",
       "    </tr>\n",
       "    <tr>\n",
       "      <th>22</th>\n",
       "      <td>BMI</td>\n",
       "      <td>Outcome</td>\n",
       "      <td>0.05163</td>\n",
       "    </tr>\n",
       "    <tr>\n",
       "      <th>23</th>\n",
       "      <td>BloodPressure</td>\n",
       "      <td>Age</td>\n",
       "      <td>0.06622</td>\n",
       "    </tr>\n",
       "    <tr>\n",
       "      <th>24</th>\n",
       "      <td>Age</td>\n",
       "      <td>Glucose</td>\n",
       "      <td>0.07913</td>\n",
       "    </tr>\n",
       "    <tr>\n",
       "      <th>25</th>\n",
       "      <td>Outcome</td>\n",
       "      <td>Pregnancies</td>\n",
       "      <td>0.09009</td>\n",
       "    </tr>\n",
       "    <tr>\n",
       "      <th>26</th>\n",
       "      <td>SkinThickness</td>\n",
       "      <td>DiabetesPedigreeFunction</td>\n",
       "      <td>0.10233</td>\n",
       "    </tr>\n",
       "    <tr>\n",
       "      <th>27</th>\n",
       "      <td>Insulin</td>\n",
       "      <td>BMI</td>\n",
       "      <td>0.10560</td>\n",
       "    </tr>\n",
       "    <tr>\n",
       "      <th>28</th>\n",
       "      <td>Insulin</td>\n",
       "      <td>DiabetesPedigreeFunction</td>\n",
       "      <td>0.10623</td>\n",
       "    </tr>\n",
       "    <tr>\n",
       "      <th>29</th>\n",
       "      <td>Outcome</td>\n",
       "      <td>Age</td>\n",
       "      <td>0.10846</td>\n",
       "    </tr>\n",
       "  </tbody>\n",
       "</table>\n",
       "</div>"
      ],
      "text/plain": [
       "                           1                         2     corr\n",
       "0              SkinThickness                       Age -0.75549\n",
       "1              SkinThickness               Pregnancies -0.67052\n",
       "2                    Insulin               Pregnancies -0.64202\n",
       "3                        Age                   Insulin -0.63670\n",
       "4                        Age                       BMI -0.49371\n",
       "5                Pregnancies                       BMI -0.47731\n",
       "6                Pregnancies  DiabetesPedigreeFunction -0.45675\n",
       "7   DiabetesPedigreeFunction                       Age -0.40203\n",
       "8                    Outcome             BloodPressure -0.36521\n",
       "9              SkinThickness                   Outcome -0.36464\n",
       "10             BloodPressure  DiabetesPedigreeFunction -0.34136\n",
       "11                   Glucose             SkinThickness -0.33583\n",
       "12             BloodPressure                   Insulin -0.24310\n",
       "13             BloodPressure                   Glucose -0.22732\n",
       "14                   Insulin                   Outcome -0.19796\n",
       "15  DiabetesPedigreeFunction                   Glucose -0.14329\n",
       "16                   Glucose               Pregnancies -0.09098\n",
       "17                   Outcome  DiabetesPedigreeFunction -0.07970\n",
       "18                       BMI                   Glucose -0.07438\n",
       "19                       BMI  DiabetesPedigreeFunction -0.06975\n",
       "20             BloodPressure               Pregnancies -0.03900\n",
       "21             SkinThickness             BloodPressure  0.01870\n",
       "22                       BMI                   Outcome  0.05163\n",
       "23             BloodPressure                       Age  0.06622\n",
       "24                       Age                   Glucose  0.07913\n",
       "25                   Outcome               Pregnancies  0.09009\n",
       "26             SkinThickness  DiabetesPedigreeFunction  0.10233\n",
       "27                   Insulin                       BMI  0.10560\n",
       "28                   Insulin  DiabetesPedigreeFunction  0.10623\n",
       "29                   Outcome                       Age  0.10846"
      ]
     },
     "execution_count": 26,
     "metadata": {},
     "output_type": "execute_result"
    }
   ],
   "source": [
    "df.corrwith(df[\"Outcome\"]).sort_values(ascending=False)\n",
    "corr_df = df.corr()\n",
    "\n",
    "sns.heatmap(corr_df, annot=True, xticklabels=corr_df.columns, yticklabels=corr_df.columns)\n",
    "plt.show()\n",
    "\n",
    "corr_df = corr_df.corr().unstack().sort_values().drop_duplicates()\n",
    "corr_df = pd.DataFrame(corr_df, columns=[\"corr\"])\n",
    "corr_df.index.names = ['1', '2']\n",
    "corr_df = corr_df.reset_index()\n",
    "corr_df.sort_values(by=\"corr\",ascending=True).head(30)"
   ]
  },
  {
   "cell_type": "markdown",
   "id": "0949d2ef",
   "metadata": {},
   "source": [
    "\n",
    "\n",
    "# Değişken Mühendisliği (Feature Engineering)\n"
   ]
  },
  {
   "cell_type": "markdown",
   "id": "d9dc2daa",
   "metadata": {},
   "source": [
    " 1. Eksik ve aykırı değerler için gerekli işlemleri yapınız.\n",
    " 2. Yeni değişkenler oluşturunuz.\n",
    " 3. Encoding işlemlerini gerçekleştiriniz.\n",
    " 4.  Numerik değişkenler için standartlaştırma yapınız.\n",
    " 5. Model oluşturunuz.\n"
   ]
  },
  {
   "cell_type": "markdown",
   "id": "f2a416de",
   "metadata": {},
   "source": [
    "\n",
    "### 1. Eksik ve aykırı değerler için gerekli işlemler\n"
   ]
  },
  {
   "cell_type": "markdown",
   "id": "04e06fe7",
   "metadata": {},
   "source": [
    "#### eksik değerler için"
   ]
  },
  {
   "cell_type": "code",
   "execution_count": 27,
   "id": "379b48eb",
   "metadata": {},
   "outputs": [],
   "source": [
    "# Glucose, BloodPressure, SkinThickness, Insulin, BMI değerleri 0 olamaz. NaN ile değiştir!"
   ]
  },
  {
   "cell_type": "code",
   "execution_count": 28,
   "id": "2c2df2c3",
   "metadata": {},
   "outputs": [],
   "source": [
    "fancy = ['Glucose', 'BloodPressure', 'SkinThickness', 'Insulin', 'BMI']\n",
    "for i in fancy:\n",
    "    df[[i]] = df[[i]].replace(0, np.NaN)"
   ]
  },
  {
   "cell_type": "code",
   "execution_count": 29,
   "id": "d868932a",
   "metadata": {},
   "outputs": [
    {
     "name": "stdout",
     "output_type": "stream",
     "text": [
      "<class 'pandas.core.frame.DataFrame'>\n",
      "RangeIndex: 768 entries, 0 to 767\n",
      "Data columns (total 9 columns):\n",
      " #   Column                    Non-Null Count  Dtype  \n",
      "---  ------                    --------------  -----  \n",
      " 0   Pregnancies               768 non-null    int64  \n",
      " 1   Glucose                   763 non-null    float64\n",
      " 2   BloodPressure             733 non-null    float64\n",
      " 3   SkinThickness             541 non-null    float64\n",
      " 4   Insulin                   394 non-null    float64\n",
      " 5   BMI                       757 non-null    float64\n",
      " 6   DiabetesPedigreeFunction  768 non-null    float64\n",
      " 7   Age                       768 non-null    int64  \n",
      " 8   Outcome                   768 non-null    int64  \n",
      "dtypes: float64(6), int64(3)\n",
      "memory usage: 54.1 KB\n"
     ]
    }
   ],
   "source": [
    "df.info()"
   ]
  },
  {
   "cell_type": "code",
   "execution_count": 30,
   "id": "92521424",
   "metadata": {},
   "outputs": [],
   "source": [
    "# Eksik değerler oluştuğunu gördük. Şimdi onları ortalama ile dolduralım."
   ]
  },
  {
   "cell_type": "code",
   "execution_count": 31,
   "id": "7d54692d",
   "metadata": {},
   "outputs": [
    {
     "name": "stdout",
     "output_type": "stream",
     "text": [
      "               n_miss    ratio\n",
      "Insulin           374 48.70000\n",
      "SkinThickness     227 29.56000\n",
      "BloodPressure      35  4.56000\n",
      "BMI                11  1.43000\n",
      "Glucose             5  0.65000\n"
     ]
    }
   ],
   "source": [
    "missing_column = missing_values_table(df,True)"
   ]
  },
  {
   "cell_type": "code",
   "execution_count": 32,
   "id": "3f156e72",
   "metadata": {},
   "outputs": [
    {
     "data": {
      "text/plain": [
       "['Glucose', 'BloodPressure', 'SkinThickness', 'Insulin', 'BMI']"
      ]
     },
     "execution_count": 32,
     "metadata": {},
     "output_type": "execute_result"
    }
   ],
   "source": [
    "missing_column"
   ]
  },
  {
   "cell_type": "code",
   "execution_count": 33,
   "id": "02e69672",
   "metadata": {},
   "outputs": [],
   "source": [
    "for i in missing_column:\n",
    "    df.loc[(df[\"Outcome\"] == 0) & (df[i].isnull()), i] = df[df[\"Outcome\"] == 0][i].mean()\n",
    "    df.loc[(df[\"Outcome\"] == 1) & (df[i].isnull()), i] = df[df[\"Outcome\"] == 1][i].mean()"
   ]
  },
  {
   "cell_type": "code",
   "execution_count": 34,
   "id": "826a7a52",
   "metadata": {},
   "outputs": [
    {
     "name": "stdout",
     "output_type": "stream",
     "text": [
      "<class 'pandas.core.frame.DataFrame'>\n",
      "RangeIndex: 768 entries, 0 to 767\n",
      "Data columns (total 9 columns):\n",
      " #   Column                    Non-Null Count  Dtype  \n",
      "---  ------                    --------------  -----  \n",
      " 0   Pregnancies               768 non-null    int64  \n",
      " 1   Glucose                   768 non-null    float64\n",
      " 2   BloodPressure             768 non-null    float64\n",
      " 3   SkinThickness             768 non-null    float64\n",
      " 4   Insulin                   768 non-null    float64\n",
      " 5   BMI                       768 non-null    float64\n",
      " 6   DiabetesPedigreeFunction  768 non-null    float64\n",
      " 7   Age                       768 non-null    int64  \n",
      " 8   Outcome                   768 non-null    int64  \n",
      "dtypes: float64(6), int64(3)\n",
      "memory usage: 54.1 KB\n"
     ]
    }
   ],
   "source": [
    "df.info()"
   ]
  },
  {
   "cell_type": "markdown",
   "id": "9b94e257",
   "metadata": {},
   "source": [
    "#### aykırı değerler için"
   ]
  },
  {
   "cell_type": "code",
   "execution_count": 35,
   "id": "0630b963",
   "metadata": {},
   "outputs": [],
   "source": [
    "# baskılama \n",
    "def replace_with_thresholds(dataframe, variable):\n",
    "    low_limit, up_limit = outlier_thresholds(dataframe, variable)\n",
    "    dataframe.loc[(dataframe[variable] < low_limit), variable] = low_limit\n",
    "    dataframe.loc[(dataframe[variable] > up_limit), variable] = up_limit\n",
    "    \n",
    "for col in num_cols:\n",
    "    replace_with_thresholds(df, col)"
   ]
  },
  {
   "cell_type": "code",
   "execution_count": 36,
   "id": "deedeedf",
   "metadata": {},
   "outputs": [
    {
     "name": "stdout",
     "output_type": "stream",
     "text": [
      "Pregnancies False\n",
      "Glucose False\n",
      "BloodPressure False\n",
      "SkinThickness False\n",
      "Insulin False\n",
      "BMI False\n",
      "DiabetesPedigreeFunction False\n",
      "Age False\n"
     ]
    }
   ],
   "source": [
    "# Aykırı değer var mı diye tekrar kontrol ettik\n",
    "for col in num_cols:\n",
    "    print(col, check_outlier(df,col))"
   ]
  },
  {
   "cell_type": "markdown",
   "id": "5f8d5dd3",
   "metadata": {},
   "source": [
    "\n",
    "### 2. Yeni değişkenler oluşturma\n"
   ]
  },
  {
   "cell_type": "code",
   "execution_count": 37,
   "id": "5f081e87",
   "metadata": {},
   "outputs": [
    {
     "data": {
      "text/html": [
       "<div>\n",
       "<style scoped>\n",
       "    .dataframe tbody tr th:only-of-type {\n",
       "        vertical-align: middle;\n",
       "    }\n",
       "\n",
       "    .dataframe tbody tr th {\n",
       "        vertical-align: top;\n",
       "    }\n",
       "\n",
       "    .dataframe thead th {\n",
       "        text-align: right;\n",
       "    }\n",
       "</style>\n",
       "<table border=\"1\" class=\"dataframe\">\n",
       "  <thead>\n",
       "    <tr style=\"text-align: right;\">\n",
       "      <th></th>\n",
       "      <th>Pregnancies</th>\n",
       "      <th>Glucose</th>\n",
       "      <th>BloodPressure</th>\n",
       "      <th>SkinThickness</th>\n",
       "      <th>Insulin</th>\n",
       "      <th>BMI</th>\n",
       "      <th>DiabetesPedigreeFunction</th>\n",
       "      <th>Age</th>\n",
       "      <th>Outcome</th>\n",
       "    </tr>\n",
       "  </thead>\n",
       "  <tbody>\n",
       "    <tr>\n",
       "      <th>0</th>\n",
       "      <td>6.00000</td>\n",
       "      <td>148.00000</td>\n",
       "      <td>72.00000</td>\n",
       "      <td>35.00000</td>\n",
       "      <td>206.84615</td>\n",
       "      <td>33.60000</td>\n",
       "      <td>0.62700</td>\n",
       "      <td>50.00000</td>\n",
       "      <td>1</td>\n",
       "    </tr>\n",
       "    <tr>\n",
       "      <th>1</th>\n",
       "      <td>1.00000</td>\n",
       "      <td>85.00000</td>\n",
       "      <td>66.00000</td>\n",
       "      <td>29.00000</td>\n",
       "      <td>130.28788</td>\n",
       "      <td>26.60000</td>\n",
       "      <td>0.35100</td>\n",
       "      <td>31.00000</td>\n",
       "      <td>0</td>\n",
       "    </tr>\n",
       "    <tr>\n",
       "      <th>2</th>\n",
       "      <td>8.00000</td>\n",
       "      <td>183.00000</td>\n",
       "      <td>64.00000</td>\n",
       "      <td>33.00000</td>\n",
       "      <td>206.84615</td>\n",
       "      <td>23.30000</td>\n",
       "      <td>0.67200</td>\n",
       "      <td>32.00000</td>\n",
       "      <td>1</td>\n",
       "    </tr>\n",
       "    <tr>\n",
       "      <th>3</th>\n",
       "      <td>1.00000</td>\n",
       "      <td>89.00000</td>\n",
       "      <td>66.00000</td>\n",
       "      <td>23.00000</td>\n",
       "      <td>94.00000</td>\n",
       "      <td>28.10000</td>\n",
       "      <td>0.16700</td>\n",
       "      <td>21.00000</td>\n",
       "      <td>0</td>\n",
       "    </tr>\n",
       "    <tr>\n",
       "      <th>4</th>\n",
       "      <td>0.00000</td>\n",
       "      <td>137.00000</td>\n",
       "      <td>45.00000</td>\n",
       "      <td>35.00000</td>\n",
       "      <td>168.00000</td>\n",
       "      <td>43.10000</td>\n",
       "      <td>2.27337</td>\n",
       "      <td>33.00000</td>\n",
       "      <td>1</td>\n",
       "    </tr>\n",
       "  </tbody>\n",
       "</table>\n",
       "</div>"
      ],
      "text/plain": [
       "   Pregnancies   Glucose  BloodPressure  SkinThickness   Insulin      BMI  \\\n",
       "0      6.00000 148.00000       72.00000       35.00000 206.84615 33.60000   \n",
       "1      1.00000  85.00000       66.00000       29.00000 130.28788 26.60000   \n",
       "2      8.00000 183.00000       64.00000       33.00000 206.84615 23.30000   \n",
       "3      1.00000  89.00000       66.00000       23.00000  94.00000 28.10000   \n",
       "4      0.00000 137.00000       45.00000       35.00000 168.00000 43.10000   \n",
       "\n",
       "   DiabetesPedigreeFunction      Age  Outcome  \n",
       "0                   0.62700 50.00000        1  \n",
       "1                   0.35100 31.00000        0  \n",
       "2                   0.67200 32.00000        1  \n",
       "3                   0.16700 21.00000        0  \n",
       "4                   2.27337 33.00000        1  "
      ]
     },
     "execution_count": 37,
     "metadata": {},
     "output_type": "execute_result"
    }
   ],
   "source": [
    "df.head()"
   ]
  },
  {
   "cell_type": "code",
   "execution_count": 38,
   "id": "d7971660",
   "metadata": {},
   "outputs": [],
   "source": [
    "# 1) New_IdealWeight"
   ]
  },
  {
   "cell_type": "markdown",
   "id": "1e507f79",
   "metadata": {},
   "source": [
    "Dünya Sağlık Örgütü tarafından belirlenmiş sınıflamaya göre;\n",
    "* 18.5 altında BMI Az kilolu\n",
    "* 18.5 - 24.9 Normal Kilolu\n",
    "* 25.0 - 29.9 Fazla Kilolu\n",
    "* 30.0 - 39.9 Obez\n",
    "* 40.5 - 50 Morbid (ciddi)\n",
    "* 50 ve üstü Süper obez"
   ]
  },
  {
   "cell_type": "code",
   "execution_count": 39,
   "id": "76b49513",
   "metadata": {},
   "outputs": [],
   "source": [
    "df[\"New_IdealWeight\"] = df[\"BMI\"].apply(lambda x: \"Ideal Weight\" if x <= 24.9 and x >= 18.5 else \"Not Ideal\")"
   ]
  },
  {
   "cell_type": "code",
   "execution_count": 40,
   "id": "e3bef057",
   "metadata": {},
   "outputs": [],
   "source": [
    "# 2) New_PregCat"
   ]
  },
  {
   "cell_type": "code",
   "execution_count": 41,
   "id": "a5d59fd3",
   "metadata": {},
   "outputs": [],
   "source": [
    "df.loc[df[\"Pregnancies\"] == 0, \"New_PregCat\"] = \"Not Pregnant\"\n",
    "df.loc[df[\"Pregnancies\"] > 0, \"New_PregCat\"] = \"Pregnant\""
   ]
  },
  {
   "cell_type": "code",
   "execution_count": 42,
   "id": "0c59ae3c",
   "metadata": {},
   "outputs": [],
   "source": [
    "# 3) New_AgeCat"
   ]
  },
  {
   "cell_type": "code",
   "execution_count": 43,
   "id": "9caab38a",
   "metadata": {},
   "outputs": [],
   "source": [
    "df[\"New_AgeCat\"] = pd.cut(df[\"Age\"], [20, 35, 50, 70], labels = [\"young\", \"mature\", \"old\"])"
   ]
  },
  {
   "cell_type": "code",
   "execution_count": 44,
   "id": "84742c46",
   "metadata": {},
   "outputs": [],
   "source": [
    "# 4) New_AgeBmi"
   ]
  },
  {
   "cell_type": "code",
   "execution_count": 45,
   "id": "69eb84a3",
   "metadata": {},
   "outputs": [],
   "source": [
    "df[\"New_AgeBmi\"] = df[\"Age\"]/df[\"BMI\"]"
   ]
  },
  {
   "cell_type": "code",
   "execution_count": 46,
   "id": "135217a5",
   "metadata": {},
   "outputs": [],
   "source": [
    "# 5) New_GlucoseAge"
   ]
  },
  {
   "cell_type": "code",
   "execution_count": 47,
   "id": "d1cd954c",
   "metadata": {},
   "outputs": [],
   "source": [
    "df[\"New_GlucoseAge\"] = df[\"Glucose\"]/df[\"Age\"]"
   ]
  },
  {
   "cell_type": "code",
   "execution_count": 48,
   "id": "430a8b18",
   "metadata": {},
   "outputs": [],
   "source": [
    "# 6) New_SkinthicknessAge"
   ]
  },
  {
   "cell_type": "code",
   "execution_count": 49,
   "id": "39fd1723",
   "metadata": {},
   "outputs": [],
   "source": [
    "df[\"New_SkinthicknessAge\"] = df[\"SkinThickness\"]/df[\"Age\"]"
   ]
  },
  {
   "cell_type": "code",
   "execution_count": 50,
   "id": "ca489b21",
   "metadata": {},
   "outputs": [],
   "source": [
    "# 7) New_GlucoseInsulin"
   ]
  },
  {
   "cell_type": "code",
   "execution_count": 51,
   "id": "48772d1e",
   "metadata": {},
   "outputs": [],
   "source": [
    "df[\"New_GlucoseInsulin\"] = df[\"Glucose\"] * df[\"Insulin\"]"
   ]
  },
  {
   "cell_type": "code",
   "execution_count": 52,
   "id": "cd5ee750",
   "metadata": {},
   "outputs": [
    {
     "data": {
      "text/html": [
       "<div>\n",
       "<style scoped>\n",
       "    .dataframe tbody tr th:only-of-type {\n",
       "        vertical-align: middle;\n",
       "    }\n",
       "\n",
       "    .dataframe tbody tr th {\n",
       "        vertical-align: top;\n",
       "    }\n",
       "\n",
       "    .dataframe thead th {\n",
       "        text-align: right;\n",
       "    }\n",
       "</style>\n",
       "<table border=\"1\" class=\"dataframe\">\n",
       "  <thead>\n",
       "    <tr style=\"text-align: right;\">\n",
       "      <th></th>\n",
       "      <th>Pregnancies</th>\n",
       "      <th>Glucose</th>\n",
       "      <th>BloodPressure</th>\n",
       "      <th>SkinThickness</th>\n",
       "      <th>Insulin</th>\n",
       "      <th>BMI</th>\n",
       "      <th>DiabetesPedigreeFunction</th>\n",
       "      <th>Age</th>\n",
       "      <th>Outcome</th>\n",
       "      <th>New_IdealWeight</th>\n",
       "      <th>New_PregCat</th>\n",
       "      <th>New_AgeCat</th>\n",
       "      <th>New_AgeBmi</th>\n",
       "      <th>New_GlucoseAge</th>\n",
       "      <th>New_SkinthicknessAge</th>\n",
       "      <th>New_GlucoseInsulin</th>\n",
       "    </tr>\n",
       "  </thead>\n",
       "  <tbody>\n",
       "    <tr>\n",
       "      <th>0</th>\n",
       "      <td>6.00000</td>\n",
       "      <td>148.00000</td>\n",
       "      <td>72.00000</td>\n",
       "      <td>35.00000</td>\n",
       "      <td>206.84615</td>\n",
       "      <td>33.60000</td>\n",
       "      <td>0.62700</td>\n",
       "      <td>50.00000</td>\n",
       "      <td>1</td>\n",
       "      <td>Not Ideal</td>\n",
       "      <td>Pregnant</td>\n",
       "      <td>mature</td>\n",
       "      <td>1.48810</td>\n",
       "      <td>2.96000</td>\n",
       "      <td>0.70000</td>\n",
       "      <td>30613.23077</td>\n",
       "    </tr>\n",
       "    <tr>\n",
       "      <th>1</th>\n",
       "      <td>1.00000</td>\n",
       "      <td>85.00000</td>\n",
       "      <td>66.00000</td>\n",
       "      <td>29.00000</td>\n",
       "      <td>130.28788</td>\n",
       "      <td>26.60000</td>\n",
       "      <td>0.35100</td>\n",
       "      <td>31.00000</td>\n",
       "      <td>0</td>\n",
       "      <td>Not Ideal</td>\n",
       "      <td>Pregnant</td>\n",
       "      <td>young</td>\n",
       "      <td>1.16541</td>\n",
       "      <td>2.74194</td>\n",
       "      <td>0.93548</td>\n",
       "      <td>11074.46970</td>\n",
       "    </tr>\n",
       "    <tr>\n",
       "      <th>2</th>\n",
       "      <td>8.00000</td>\n",
       "      <td>183.00000</td>\n",
       "      <td>64.00000</td>\n",
       "      <td>33.00000</td>\n",
       "      <td>206.84615</td>\n",
       "      <td>23.30000</td>\n",
       "      <td>0.67200</td>\n",
       "      <td>32.00000</td>\n",
       "      <td>1</td>\n",
       "      <td>Ideal Weight</td>\n",
       "      <td>Pregnant</td>\n",
       "      <td>young</td>\n",
       "      <td>1.37339</td>\n",
       "      <td>5.71875</td>\n",
       "      <td>1.03125</td>\n",
       "      <td>37852.84615</td>\n",
       "    </tr>\n",
       "    <tr>\n",
       "      <th>3</th>\n",
       "      <td>1.00000</td>\n",
       "      <td>89.00000</td>\n",
       "      <td>66.00000</td>\n",
       "      <td>23.00000</td>\n",
       "      <td>94.00000</td>\n",
       "      <td>28.10000</td>\n",
       "      <td>0.16700</td>\n",
       "      <td>21.00000</td>\n",
       "      <td>0</td>\n",
       "      <td>Not Ideal</td>\n",
       "      <td>Pregnant</td>\n",
       "      <td>young</td>\n",
       "      <td>0.74733</td>\n",
       "      <td>4.23810</td>\n",
       "      <td>1.09524</td>\n",
       "      <td>8366.00000</td>\n",
       "    </tr>\n",
       "    <tr>\n",
       "      <th>4</th>\n",
       "      <td>0.00000</td>\n",
       "      <td>137.00000</td>\n",
       "      <td>45.00000</td>\n",
       "      <td>35.00000</td>\n",
       "      <td>168.00000</td>\n",
       "      <td>43.10000</td>\n",
       "      <td>2.27337</td>\n",
       "      <td>33.00000</td>\n",
       "      <td>1</td>\n",
       "      <td>Not Ideal</td>\n",
       "      <td>Not Pregnant</td>\n",
       "      <td>young</td>\n",
       "      <td>0.76566</td>\n",
       "      <td>4.15152</td>\n",
       "      <td>1.06061</td>\n",
       "      <td>23016.00000</td>\n",
       "    </tr>\n",
       "  </tbody>\n",
       "</table>\n",
       "</div>"
      ],
      "text/plain": [
       "   Pregnancies   Glucose  BloodPressure  SkinThickness   Insulin      BMI  \\\n",
       "0      6.00000 148.00000       72.00000       35.00000 206.84615 33.60000   \n",
       "1      1.00000  85.00000       66.00000       29.00000 130.28788 26.60000   \n",
       "2      8.00000 183.00000       64.00000       33.00000 206.84615 23.30000   \n",
       "3      1.00000  89.00000       66.00000       23.00000  94.00000 28.10000   \n",
       "4      0.00000 137.00000       45.00000       35.00000 168.00000 43.10000   \n",
       "\n",
       "   DiabetesPedigreeFunction      Age  Outcome New_IdealWeight   New_PregCat  \\\n",
       "0                   0.62700 50.00000        1       Not Ideal      Pregnant   \n",
       "1                   0.35100 31.00000        0       Not Ideal      Pregnant   \n",
       "2                   0.67200 32.00000        1    Ideal Weight      Pregnant   \n",
       "3                   0.16700 21.00000        0       Not Ideal      Pregnant   \n",
       "4                   2.27337 33.00000        1       Not Ideal  Not Pregnant   \n",
       "\n",
       "  New_AgeCat  New_AgeBmi  New_GlucoseAge  New_SkinthicknessAge  \\\n",
       "0     mature     1.48810         2.96000               0.70000   \n",
       "1      young     1.16541         2.74194               0.93548   \n",
       "2      young     1.37339         5.71875               1.03125   \n",
       "3      young     0.74733         4.23810               1.09524   \n",
       "4      young     0.76566         4.15152               1.06061   \n",
       "\n",
       "   New_GlucoseInsulin  \n",
       "0         30613.23077  \n",
       "1         11074.46970  \n",
       "2         37852.84615  \n",
       "3          8366.00000  \n",
       "4         23016.00000  "
      ]
     },
     "execution_count": 52,
     "metadata": {},
     "output_type": "execute_result"
    }
   ],
   "source": [
    "df.head()"
   ]
  },
  {
   "cell_type": "code",
   "execution_count": 53,
   "id": "4ec99357",
   "metadata": {},
   "outputs": [
    {
     "name": "stdout",
     "output_type": "stream",
     "text": [
      "<class 'pandas.core.frame.DataFrame'>\n",
      "RangeIndex: 768 entries, 0 to 767\n",
      "Data columns (total 16 columns):\n",
      " #   Column                    Non-Null Count  Dtype   \n",
      "---  ------                    --------------  -----   \n",
      " 0   Pregnancies               768 non-null    float64 \n",
      " 1   Glucose                   768 non-null    float64 \n",
      " 2   BloodPressure             768 non-null    float64 \n",
      " 3   SkinThickness             768 non-null    float64 \n",
      " 4   Insulin                   768 non-null    float64 \n",
      " 5   BMI                       768 non-null    float64 \n",
      " 6   DiabetesPedigreeFunction  768 non-null    float64 \n",
      " 7   Age                       768 non-null    float64 \n",
      " 8   Outcome                   768 non-null    int64   \n",
      " 9   New_IdealWeight           768 non-null    object  \n",
      " 10  New_PregCat               768 non-null    object  \n",
      " 11  New_AgeCat                766 non-null    category\n",
      " 12  New_AgeBmi                768 non-null    float64 \n",
      " 13  New_GlucoseAge            768 non-null    float64 \n",
      " 14  New_SkinthicknessAge      768 non-null    float64 \n",
      " 15  New_GlucoseInsulin        768 non-null    float64 \n",
      "dtypes: category(1), float64(12), int64(1), object(2)\n",
      "memory usage: 91.0+ KB\n"
     ]
    }
   ],
   "source": [
    "df.info()"
   ]
  },
  {
   "cell_type": "markdown",
   "id": "c0c24471",
   "metadata": {},
   "source": [
    "\n",
    "### 3. Encoding İşlemleri\n"
   ]
  },
  {
   "cell_type": "code",
   "execution_count": 54,
   "id": "5e132436",
   "metadata": {},
   "outputs": [],
   "source": [
    "def label_encoder(dataframe, binary_col):\n",
    "    labelencoder = LabelEncoder()\n",
    "    dataframe[binary_col] = labelencoder.fit_transform(dataframe[binary_col])\n",
    "    return dataframe"
   ]
  },
  {
   "cell_type": "code",
   "execution_count": 55,
   "id": "bf96eff3",
   "metadata": {},
   "outputs": [],
   "source": [
    "binary_cols = ['New_IdealWeight','New_PregCat']"
   ]
  },
  {
   "cell_type": "code",
   "execution_count": 56,
   "id": "dea4b00a",
   "metadata": {},
   "outputs": [],
   "source": [
    "for col in binary_cols:\n",
    "    df=label_encoder(df, col)"
   ]
  },
  {
   "cell_type": "code",
   "execution_count": 57,
   "id": "3859960b",
   "metadata": {},
   "outputs": [],
   "source": [
    "def one_hot_encoder(dataframe, categorical_cols, drop_first=True):\n",
    "    dataframe = pd.get_dummies(dataframe, columns=categorical_cols, drop_first=drop_first)\n",
    "    return dataframe"
   ]
  },
  {
   "cell_type": "code",
   "execution_count": 58,
   "id": "942276b4",
   "metadata": {},
   "outputs": [],
   "source": [
    "ohe_cols = [col for col in df.columns if 10 >= df[col].nunique() > 2]"
   ]
  },
  {
   "cell_type": "code",
   "execution_count": 59,
   "id": "d5105b3d",
   "metadata": {},
   "outputs": [
    {
     "data": {
      "text/plain": [
       "['New_AgeCat']"
      ]
     },
     "execution_count": 59,
     "metadata": {},
     "output_type": "execute_result"
    }
   ],
   "source": [
    "ohe_cols"
   ]
  },
  {
   "cell_type": "code",
   "execution_count": 60,
   "id": "2095a43f",
   "metadata": {},
   "outputs": [],
   "source": [
    "df=one_hot_encoder(df, ohe_cols)"
   ]
  },
  {
   "cell_type": "code",
   "execution_count": 61,
   "id": "204f96d0",
   "metadata": {},
   "outputs": [
    {
     "data": {
      "text/html": [
       "<div>\n",
       "<style scoped>\n",
       "    .dataframe tbody tr th:only-of-type {\n",
       "        vertical-align: middle;\n",
       "    }\n",
       "\n",
       "    .dataframe tbody tr th {\n",
       "        vertical-align: top;\n",
       "    }\n",
       "\n",
       "    .dataframe thead th {\n",
       "        text-align: right;\n",
       "    }\n",
       "</style>\n",
       "<table border=\"1\" class=\"dataframe\">\n",
       "  <thead>\n",
       "    <tr style=\"text-align: right;\">\n",
       "      <th></th>\n",
       "      <th>Pregnancies</th>\n",
       "      <th>Glucose</th>\n",
       "      <th>BloodPressure</th>\n",
       "      <th>SkinThickness</th>\n",
       "      <th>Insulin</th>\n",
       "      <th>BMI</th>\n",
       "      <th>DiabetesPedigreeFunction</th>\n",
       "      <th>Age</th>\n",
       "      <th>Outcome</th>\n",
       "      <th>New_IdealWeight</th>\n",
       "      <th>New_PregCat</th>\n",
       "      <th>New_AgeBmi</th>\n",
       "      <th>New_GlucoseAge</th>\n",
       "      <th>New_SkinthicknessAge</th>\n",
       "      <th>New_GlucoseInsulin</th>\n",
       "      <th>New_AgeCat_mature</th>\n",
       "      <th>New_AgeCat_old</th>\n",
       "    </tr>\n",
       "  </thead>\n",
       "  <tbody>\n",
       "    <tr>\n",
       "      <th>0</th>\n",
       "      <td>6.00000</td>\n",
       "      <td>148.00000</td>\n",
       "      <td>72.00000</td>\n",
       "      <td>35.00000</td>\n",
       "      <td>206.84615</td>\n",
       "      <td>33.60000</td>\n",
       "      <td>0.62700</td>\n",
       "      <td>50.00000</td>\n",
       "      <td>1</td>\n",
       "      <td>1</td>\n",
       "      <td>1</td>\n",
       "      <td>1.48810</td>\n",
       "      <td>2.96000</td>\n",
       "      <td>0.70000</td>\n",
       "      <td>30613.23077</td>\n",
       "      <td>1</td>\n",
       "      <td>0</td>\n",
       "    </tr>\n",
       "    <tr>\n",
       "      <th>1</th>\n",
       "      <td>1.00000</td>\n",
       "      <td>85.00000</td>\n",
       "      <td>66.00000</td>\n",
       "      <td>29.00000</td>\n",
       "      <td>130.28788</td>\n",
       "      <td>26.60000</td>\n",
       "      <td>0.35100</td>\n",
       "      <td>31.00000</td>\n",
       "      <td>0</td>\n",
       "      <td>1</td>\n",
       "      <td>1</td>\n",
       "      <td>1.16541</td>\n",
       "      <td>2.74194</td>\n",
       "      <td>0.93548</td>\n",
       "      <td>11074.46970</td>\n",
       "      <td>0</td>\n",
       "      <td>0</td>\n",
       "    </tr>\n",
       "    <tr>\n",
       "      <th>2</th>\n",
       "      <td>8.00000</td>\n",
       "      <td>183.00000</td>\n",
       "      <td>64.00000</td>\n",
       "      <td>33.00000</td>\n",
       "      <td>206.84615</td>\n",
       "      <td>23.30000</td>\n",
       "      <td>0.67200</td>\n",
       "      <td>32.00000</td>\n",
       "      <td>1</td>\n",
       "      <td>0</td>\n",
       "      <td>1</td>\n",
       "      <td>1.37339</td>\n",
       "      <td>5.71875</td>\n",
       "      <td>1.03125</td>\n",
       "      <td>37852.84615</td>\n",
       "      <td>0</td>\n",
       "      <td>0</td>\n",
       "    </tr>\n",
       "    <tr>\n",
       "      <th>3</th>\n",
       "      <td>1.00000</td>\n",
       "      <td>89.00000</td>\n",
       "      <td>66.00000</td>\n",
       "      <td>23.00000</td>\n",
       "      <td>94.00000</td>\n",
       "      <td>28.10000</td>\n",
       "      <td>0.16700</td>\n",
       "      <td>21.00000</td>\n",
       "      <td>0</td>\n",
       "      <td>1</td>\n",
       "      <td>1</td>\n",
       "      <td>0.74733</td>\n",
       "      <td>4.23810</td>\n",
       "      <td>1.09524</td>\n",
       "      <td>8366.00000</td>\n",
       "      <td>0</td>\n",
       "      <td>0</td>\n",
       "    </tr>\n",
       "    <tr>\n",
       "      <th>4</th>\n",
       "      <td>0.00000</td>\n",
       "      <td>137.00000</td>\n",
       "      <td>45.00000</td>\n",
       "      <td>35.00000</td>\n",
       "      <td>168.00000</td>\n",
       "      <td>43.10000</td>\n",
       "      <td>2.27337</td>\n",
       "      <td>33.00000</td>\n",
       "      <td>1</td>\n",
       "      <td>1</td>\n",
       "      <td>0</td>\n",
       "      <td>0.76566</td>\n",
       "      <td>4.15152</td>\n",
       "      <td>1.06061</td>\n",
       "      <td>23016.00000</td>\n",
       "      <td>0</td>\n",
       "      <td>0</td>\n",
       "    </tr>\n",
       "  </tbody>\n",
       "</table>\n",
       "</div>"
      ],
      "text/plain": [
       "   Pregnancies   Glucose  BloodPressure  SkinThickness   Insulin      BMI  \\\n",
       "0      6.00000 148.00000       72.00000       35.00000 206.84615 33.60000   \n",
       "1      1.00000  85.00000       66.00000       29.00000 130.28788 26.60000   \n",
       "2      8.00000 183.00000       64.00000       33.00000 206.84615 23.30000   \n",
       "3      1.00000  89.00000       66.00000       23.00000  94.00000 28.10000   \n",
       "4      0.00000 137.00000       45.00000       35.00000 168.00000 43.10000   \n",
       "\n",
       "   DiabetesPedigreeFunction      Age  Outcome  New_IdealWeight  New_PregCat  \\\n",
       "0                   0.62700 50.00000        1                1            1   \n",
       "1                   0.35100 31.00000        0                1            1   \n",
       "2                   0.67200 32.00000        1                0            1   \n",
       "3                   0.16700 21.00000        0                1            1   \n",
       "4                   2.27337 33.00000        1                1            0   \n",
       "\n",
       "   New_AgeBmi  New_GlucoseAge  New_SkinthicknessAge  New_GlucoseInsulin  \\\n",
       "0     1.48810         2.96000               0.70000         30613.23077   \n",
       "1     1.16541         2.74194               0.93548         11074.46970   \n",
       "2     1.37339         5.71875               1.03125         37852.84615   \n",
       "3     0.74733         4.23810               1.09524          8366.00000   \n",
       "4     0.76566         4.15152               1.06061         23016.00000   \n",
       "\n",
       "   New_AgeCat_mature  New_AgeCat_old  \n",
       "0                  1               0  \n",
       "1                  0               0  \n",
       "2                  0               0  \n",
       "3                  0               0  \n",
       "4                  0               0  "
      ]
     },
     "execution_count": 61,
     "metadata": {},
     "output_type": "execute_result"
    }
   ],
   "source": [
    "df.head()"
   ]
  },
  {
   "cell_type": "markdown",
   "id": "4116493b",
   "metadata": {},
   "source": [
    "\n",
    "### 4. Numerik değişkenler için standartlaştırma \n"
   ]
  },
  {
   "cell_type": "code",
   "execution_count": 62,
   "id": "208d0c02",
   "metadata": {},
   "outputs": [],
   "source": [
    "scaler = RobustScaler()\n",
    "df[num_cols] = scaler.fit_transform(df[num_cols])"
   ]
  },
  {
   "cell_type": "markdown",
   "id": "fbdca21f",
   "metadata": {},
   "source": [
    "\n",
    "### 5. Model \n"
   ]
  },
  {
   "cell_type": "code",
   "execution_count": 63,
   "id": "7f771611",
   "metadata": {},
   "outputs": [],
   "source": [
    "# bağımlı değişken \n",
    "y = df[\"Outcome\"]\n",
    "\n",
    "# bağımsız değişkenler Outcome dışındaki değişkenler\n",
    "X = df.drop([\"Outcome\"], axis=1)"
   ]
  },
  {
   "cell_type": "code",
   "execution_count": 64,
   "id": "956199b3",
   "metadata": {},
   "outputs": [],
   "source": [
    "X_train, X_test, y_train, y_test = train_test_split(X, y, test_size=0.30, random_state=17)"
   ]
  },
  {
   "cell_type": "code",
   "execution_count": 65,
   "id": "97cdf7fc",
   "metadata": {},
   "outputs": [
    {
     "data": {
      "text/plain": [
       "0.8701298701298701"
      ]
     },
     "execution_count": 65,
     "metadata": {},
     "output_type": "execute_result"
    }
   ],
   "source": [
    "rf_model = RandomForestClassifier(random_state=46).fit(X_train, y_train)\n",
    "y_pred = rf_model.predict(X_test)\n",
    "accuracy_score(y_pred, y_test)"
   ]
  },
  {
   "cell_type": "markdown",
   "id": "f1614ccd",
   "metadata": {},
   "source": [
    "#### Son olarak oluşturduğumuz yeni değişkenlerin etkisini gözlemleyelim"
   ]
  },
  {
   "cell_type": "code",
   "execution_count": 66,
   "id": "11260103",
   "metadata": {},
   "outputs": [],
   "source": [
    "def plot_importance(model, features, num=len(X), save=False):\n",
    "    feature_imp = pd.DataFrame({'Value': model.feature_importances_, 'Feature': features.columns})\n",
    "    plt.figure(figsize=(10, 10))\n",
    "    sns.set(font_scale=1)\n",
    "    sns.barplot(x=\"Value\", y=\"Feature\", data=feature_imp.sort_values(by=\"Value\",\n",
    "                                                                      ascending=False)[0:num])\n",
    "    plt.title('Features')\n",
    "    plt.tight_layout()\n",
    "    plt.show()\n",
    "    if save:\n",
    "        plt.savefig('importances.png')"
   ]
  },
  {
   "cell_type": "code",
   "execution_count": 67,
   "id": "7cffe934",
   "metadata": {},
   "outputs": [
    {
     "data": {
      "image/png": "[encoded data removed]",
      "text/plain": [
       "<Figure size 720x720 with 1 Axes>"
      ]
     },
     "metadata": {
      "needs_background": "light"
     },
     "output_type": "display_data"
    }
   ],
   "source": [
    "plot_importance(rf_model, X_train)"
   ]
  },
  {
   "cell_type": "code",
   "execution_count": null,
   "id": "3cc3f7ca",
   "metadata": {},
   "outputs": [],
   "source": []
  }
 ],
 "metadata": {
  "kernelspec": {
   "display_name": "Python 3",
   "language": "python",
   "name": "python3"
  },
  "language_info": {
   "codemirror_mode": {
    "name": "ipython",
    "version": 3
   },
   "file_extension": ".py",
   "mimetype": "text/x-python",
   "name": "python",
   "nbconvert_exporter": "python",
   "pygments_lexer": "ipython3",
   "version": "3.8.8"
  }
 },
 "nbformat": 4,
 "nbformat_minor": 5
}
